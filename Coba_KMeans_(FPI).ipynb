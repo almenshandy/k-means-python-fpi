{
  "nbformat": 4,
  "nbformat_minor": 0,
  "metadata": {
    "colab": {
      "provenance": [],
      "authorship_tag": "ABX9TyN+/HdikkQXBrwO81LW2iRc",
      "include_colab_link": true
    },
    "kernelspec": {
      "name": "python3",
      "display_name": "Python 3"
    },
    "language_info": {
      "name": "python"
    }
  },
  "cells": [
    {
      "cell_type": "markdown",
      "metadata": {
        "id": "view-in-github",
        "colab_type": "text"
      },
      "source": [
        "<a href=\"https://colab.research.google.com/github/noobcoding2020/k-means-python-fpi/blob/main/Coba_KMeans_(FPI).ipynb\" target=\"_parent\"><img src=\"https://colab.research.google.com/assets/colab-badge.svg\" alt=\"Open In Colab\"/></a>"
      ]
    },
    {
      "cell_type": "code",
      "source": [
        "from google.colab import files\n",
        "up = files.upload()"
      ],
      "metadata": {
        "id": "x0LmXnLjG17p"
      },
      "execution_count": null,
      "outputs": []
    },
    {
      "cell_type": "code",
      "source": [
        "import numpy as np\n",
        "import pandas as pd\n",
        "from sklearn.cluster import KMeans\n",
        "import matplotlib.pyplot as plt\n",
        "import seaborn as sns\n",
        "from sklearn import preprocessing"
      ],
      "metadata": {
        "id": "RZzskHNlG6E1"
      },
      "execution_count": null,
      "outputs": []
    },
    {
      "cell_type": "code",
      "source": [
        "d1 = pd.read_excel('amf.xlsx')"
      ],
      "metadata": {
        "id": "0QWylmnSHIE8"
      },
      "execution_count": null,
      "outputs": []
    },
    {
      "cell_type": "code",
      "source": [
        "d1.head()"
      ],
      "metadata": {
        "id": "AhMjVk3HHKzv"
      },
      "execution_count": null,
      "outputs": []
    },
    {
      "cell_type": "code",
      "source": [
        "d2 = d1.drop(['nama', 'posisi', 'asal_klub'], axis=1)"
      ],
      "metadata": {
        "id": "gTU9ZaTWHcsx"
      },
      "execution_count": null,
      "outputs": []
    },
    {
      "cell_type": "code",
      "source": [
        "minmax = preprocessing.MinMaxScaler().fit_transform(d2)"
      ],
      "metadata": {
        "id": "QI7wWZ1KKfwL"
      },
      "execution_count": null,
      "outputs": []
    },
    {
      "cell_type": "code",
      "source": [
        "d3 = pd.DataFrame(minmax, index=d2.index, columns=d2.columns)"
      ],
      "metadata": {
        "id": "k6dvzRPnKmVh"
      },
      "execution_count": null,
      "outputs": []
    },
    {
      "cell_type": "code",
      "source": [
        "d3.head()"
      ],
      "metadata": {
        "id": "XIbCCO6VKnUB"
      },
      "execution_count": null,
      "outputs": []
    },
    {
      "cell_type": "code",
      "source": [
        "scr=[]\n",
        "for i in range (1, 20):\n",
        "  score = KMeans(n_clusters=i).fit(d3).score(d3)\n",
        "  print(score)\n",
        "  scr.append(score)"
      ],
      "metadata": {
        "id": "gwHlwnl4KqNs"
      },
      "execution_count": null,
      "outputs": []
    },
    {
      "cell_type": "code",
      "source": [
        "plt.plot(scr)"
      ],
      "metadata": {
        "id": "sLAH8JDjK0c9"
      },
      "execution_count": null,
      "outputs": []
    },
    {
      "cell_type": "code",
      "source": [
        "kmeans = KMeans (n_clusters=5)\n",
        "kmeans.fit(d3)"
      ],
      "metadata": {
        "id": "oWQuJA28K5tA"
      },
      "execution_count": null,
      "outputs": []
    },
    {
      "cell_type": "code",
      "source": [
        "d3['clusters'] = kmeans.labels_"
      ],
      "metadata": {
        "id": "CwI8L0_KLHsu"
      },
      "execution_count": null,
      "outputs": []
    },
    {
      "cell_type": "code",
      "source": [
        "plt.hist(d3['clusters'])"
      ],
      "metadata": {
        "id": "2WwSQ8TPLLe5"
      },
      "execution_count": null,
      "outputs": []
    },
    {
      "cell_type": "code",
      "source": [
        "sns.pairplot(d3, hue='clusters')"
      ],
      "metadata": {
        "id": "vG4vG8wMLOf8"
      },
      "execution_count": null,
      "outputs": []
    },
    {
      "cell_type": "code",
      "source": [
        "d4 = pd.concat([d1.loc[:, ['nama', 'posisi', 'asal_klub']], d3], axis=1)"
      ],
      "metadata": {
        "id": "JV5XYFZ6LWNX"
      },
      "execution_count": null,
      "outputs": []
    },
    {
      "cell_type": "code",
      "source": [
        "d4"
      ],
      "metadata": {
        "id": "7E_62srBM6d5"
      },
      "execution_count": null,
      "outputs": []
    },
    {
      "cell_type": "code",
      "source": [
        "d4_sorted = d4.sort_values('clusters')"
      ],
      "metadata": {
        "id": "Iiv-3v1tM8cx"
      },
      "execution_count": null,
      "outputs": []
    },
    {
      "cell_type": "code",
      "source": [
        "d4_sorted.head()"
      ],
      "metadata": {
        "id": "_H0JKnJwU73U"
      },
      "execution_count": null,
      "outputs": []
    },
    {
      "cell_type": "code",
      "source": [
        "with pd.ExcelWriter(r'hasil cluster.xlsx') as writer:\n",
        "  d4_sorted.to_excel(writer, sheet_name='sorted_k-means')"
      ],
      "metadata": {
        "id": "C3Yy6ql6VAD2"
      },
      "execution_count": null,
      "outputs": []
    },
    {
      "cell_type": "code",
      "source": [],
      "metadata": {
        "id": "HWxVeRc3VO1h"
      },
      "execution_count": null,
      "outputs": []
    }
  ]
}